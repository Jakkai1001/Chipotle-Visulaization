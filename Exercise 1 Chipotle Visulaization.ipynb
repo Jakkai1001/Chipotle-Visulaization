{
  "nbformat": 4,
  "nbformat_minor": 0,
  "metadata": {
    "colab": {
      "provenance": [],
      "include_colab_link": true
    },
    "kernelspec": {
      "name": "python3",
      "display_name": "Python 3"
    },
    "language_info": {
      "name": "python"
    }
  },
  "cells": [
    {
      "cell_type": "markdown",
      "metadata": {
        "id": "view-in-github",
        "colab_type": "text"
      },
      "source": [
        "<a href=\"https://colab.research.google.com/github/Jakkai1001/Chipotle-Visulaization/blob/main/Exercise%201%20Chipotle%20Visulaization.ipynb\" target=\"_parent\"><img src=\"https://colab.research.google.com/assets/colab-badge.svg\" alt=\"Open In Colab\"/></a>"
      ]
    },
    {
      "cell_type": "code",
      "execution_count": 1,
      "metadata": {
        "colab": {
          "base_uri": "https://localhost:8080/",
          "height": 577
        },
        "id": "JwAhdTeBp9W0",
        "outputId": "92ef819d-9061-4f80-d6e9-f9b1635ef0c5"
      },
      "outputs": [
        {
          "output_type": "stream",
          "name": "stdout",
          "text": [
            "คำถาม 1: เมนูไหนที่ขายดีที่สุด?\n",
            "คำตอบ 1: จากกราฟ เมนูที่ขายดีที่สุดคือเมนูที่มีจำนวนขายสูงสุด (เช่น 'Chicken Bowl')\n"
          ]
        },
        {
          "output_type": "display_data",
          "data": {
            "text/html": [
              "<html>\n",
              "<head><meta charset=\"utf-8\" /></head>\n",
              "<body>\n",
              "    <div>            <script src=\"https://cdnjs.cloudflare.com/ajax/libs/mathjax/2.7.5/MathJax.js?config=TeX-AMS-MML_SVG\"></script><script type=\"text/javascript\">if (window.MathJax && window.MathJax.Hub && window.MathJax.Hub.Config) {window.MathJax.Hub.Config({SVG: {font: \"STIX-Web\"}});}</script>                <script type=\"text/javascript\">window.PlotlyConfig = {MathJaxConfig: 'local'};</script>\n",
              "        <script charset=\"utf-8\" src=\"https://cdn.plot.ly/plotly-2.35.2.min.js\"></script>                <div id=\"f7aa31cd-ff35-4cbe-8b6e-f641533b7c69\" class=\"plotly-graph-div\" style=\"height:525px; width:100%;\"></div>            <script type=\"text/javascript\">                                    window.PLOTLYENV=window.PLOTLYENV || {};                                    if (document.getElementById(\"f7aa31cd-ff35-4cbe-8b6e-f641533b7c69\")) {                    Plotly.newPlot(                        \"f7aa31cd-ff35-4cbe-8b6e-f641533b7c69\",                        [{\"alignmentgroup\":\"True\",\"hovertemplate\":\"เมนูอาหาร=%{x}\\u003cbr\\u003eจำนวนที่ขาย=%{y}\\u003cextra\\u003e\\u003c\\u002fextra\\u003e\",\"legendgroup\":\"\",\"marker\":{\"color\":\"#636efa\",\"pattern\":{\"shape\":\"\"}},\"name\":\"\",\"offsetgroup\":\"\",\"orientation\":\"v\",\"showlegend\":false,\"textposition\":\"auto\",\"x\":[\"Chicken Bowl\",\"Chicken Burrito\",\"Steak Burrito\",\"Steak Bowl\",\"Chips and Guacamole\",\"Chicken Salad Bowl\",\"Chicken Soft Tacos\",\"Veggie Burrito\",\"Barbacoa Burrito\",\"Veggie Bowl\"],\"xaxis\":\"x\",\"y\":[761,591,386,221,506,123,120,97,91,87],\"yaxis\":\"y\",\"type\":\"bar\"}],                        {\"template\":{\"data\":{\"histogram2dcontour\":[{\"type\":\"histogram2dcontour\",\"colorbar\":{\"outlinewidth\":0,\"ticks\":\"\"},\"colorscale\":[[0.0,\"#0d0887\"],[0.1111111111111111,\"#46039f\"],[0.2222222222222222,\"#7201a8\"],[0.3333333333333333,\"#9c179e\"],[0.4444444444444444,\"#bd3786\"],[0.5555555555555556,\"#d8576b\"],[0.6666666666666666,\"#ed7953\"],[0.7777777777777778,\"#fb9f3a\"],[0.8888888888888888,\"#fdca26\"],[1.0,\"#f0f921\"]]}],\"choropleth\":[{\"type\":\"choropleth\",\"colorbar\":{\"outlinewidth\":0,\"ticks\":\"\"}}],\"histogram2d\":[{\"type\":\"histogram2d\",\"colorbar\":{\"outlinewidth\":0,\"ticks\":\"\"},\"colorscale\":[[0.0,\"#0d0887\"],[0.1111111111111111,\"#46039f\"],[0.2222222222222222,\"#7201a8\"],[0.3333333333333333,\"#9c179e\"],[0.4444444444444444,\"#bd3786\"],[0.5555555555555556,\"#d8576b\"],[0.6666666666666666,\"#ed7953\"],[0.7777777777777778,\"#fb9f3a\"],[0.8888888888888888,\"#fdca26\"],[1.0,\"#f0f921\"]]}],\"heatmap\":[{\"type\":\"heatmap\",\"colorbar\":{\"outlinewidth\":0,\"ticks\":\"\"},\"colorscale\":[[0.0,\"#0d0887\"],[0.1111111111111111,\"#46039f\"],[0.2222222222222222,\"#7201a8\"],[0.3333333333333333,\"#9c179e\"],[0.4444444444444444,\"#bd3786\"],[0.5555555555555556,\"#d8576b\"],[0.6666666666666666,\"#ed7953\"],[0.7777777777777778,\"#fb9f3a\"],[0.8888888888888888,\"#fdca26\"],[1.0,\"#f0f921\"]]}],\"heatmapgl\":[{\"type\":\"heatmapgl\",\"colorbar\":{\"outlinewidth\":0,\"ticks\":\"\"},\"colorscale\":[[0.0,\"#0d0887\"],[0.1111111111111111,\"#46039f\"],[0.2222222222222222,\"#7201a8\"],[0.3333333333333333,\"#9c179e\"],[0.4444444444444444,\"#bd3786\"],[0.5555555555555556,\"#d8576b\"],[0.6666666666666666,\"#ed7953\"],[0.7777777777777778,\"#fb9f3a\"],[0.8888888888888888,\"#fdca26\"],[1.0,\"#f0f921\"]]}],\"contourcarpet\":[{\"type\":\"contourcarpet\",\"colorbar\":{\"outlinewidth\":0,\"ticks\":\"\"}}],\"contour\":[{\"type\":\"contour\",\"colorbar\":{\"outlinewidth\":0,\"ticks\":\"\"},\"colorscale\":[[0.0,\"#0d0887\"],[0.1111111111111111,\"#46039f\"],[0.2222222222222222,\"#7201a8\"],[0.3333333333333333,\"#9c179e\"],[0.4444444444444444,\"#bd3786\"],[0.5555555555555556,\"#d8576b\"],[0.6666666666666666,\"#ed7953\"],[0.7777777777777778,\"#fb9f3a\"],[0.8888888888888888,\"#fdca26\"],[1.0,\"#f0f921\"]]}],\"surface\":[{\"type\":\"surface\",\"colorbar\":{\"outlinewidth\":0,\"ticks\":\"\"},\"colorscale\":[[0.0,\"#0d0887\"],[0.1111111111111111,\"#46039f\"],[0.2222222222222222,\"#7201a8\"],[0.3333333333333333,\"#9c179e\"],[0.4444444444444444,\"#bd3786\"],[0.5555555555555556,\"#d8576b\"],[0.6666666666666666,\"#ed7953\"],[0.7777777777777778,\"#fb9f3a\"],[0.8888888888888888,\"#fdca26\"],[1.0,\"#f0f921\"]]}],\"mesh3d\":[{\"type\":\"mesh3d\",\"colorbar\":{\"outlinewidth\":0,\"ticks\":\"\"}}],\"scatter\":[{\"fillpattern\":{\"fillmode\":\"overlay\",\"size\":10,\"solidity\":0.2},\"type\":\"scatter\"}],\"parcoords\":[{\"type\":\"parcoords\",\"line\":{\"colorbar\":{\"outlinewidth\":0,\"ticks\":\"\"}}}],\"scatterpolargl\":[{\"type\":\"scatterpolargl\",\"marker\":{\"colorbar\":{\"outlinewidth\":0,\"ticks\":\"\"}}}],\"bar\":[{\"error_x\":{\"color\":\"#2a3f5f\"},\"error_y\":{\"color\":\"#2a3f5f\"},\"marker\":{\"line\":{\"color\":\"#E5ECF6\",\"width\":0.5},\"pattern\":{\"fillmode\":\"overlay\",\"size\":10,\"solidity\":0.2}},\"type\":\"bar\"}],\"scattergeo\":[{\"type\":\"scattergeo\",\"marker\":{\"colorbar\":{\"outlinewidth\":0,\"ticks\":\"\"}}}],\"scatterpolar\":[{\"type\":\"scatterpolar\",\"marker\":{\"colorbar\":{\"outlinewidth\":0,\"ticks\":\"\"}}}],\"histogram\":[{\"marker\":{\"pattern\":{\"fillmode\":\"overlay\",\"size\":10,\"solidity\":0.2}},\"type\":\"histogram\"}],\"scattergl\":[{\"type\":\"scattergl\",\"marker\":{\"colorbar\":{\"outlinewidth\":0,\"ticks\":\"\"}}}],\"scatter3d\":[{\"type\":\"scatter3d\",\"line\":{\"colorbar\":{\"outlinewidth\":0,\"ticks\":\"\"}},\"marker\":{\"colorbar\":{\"outlinewidth\":0,\"ticks\":\"\"}}}],\"scattermapbox\":[{\"type\":\"scattermapbox\",\"marker\":{\"colorbar\":{\"outlinewidth\":0,\"ticks\":\"\"}}}],\"scatterternary\":[{\"type\":\"scatterternary\",\"marker\":{\"colorbar\":{\"outlinewidth\":0,\"ticks\":\"\"}}}],\"scattercarpet\":[{\"type\":\"scattercarpet\",\"marker\":{\"colorbar\":{\"outlinewidth\":0,\"ticks\":\"\"}}}],\"carpet\":[{\"aaxis\":{\"endlinecolor\":\"#2a3f5f\",\"gridcolor\":\"white\",\"linecolor\":\"white\",\"minorgridcolor\":\"white\",\"startlinecolor\":\"#2a3f5f\"},\"baxis\":{\"endlinecolor\":\"#2a3f5f\",\"gridcolor\":\"white\",\"linecolor\":\"white\",\"minorgridcolor\":\"white\",\"startlinecolor\":\"#2a3f5f\"},\"type\":\"carpet\"}],\"table\":[{\"cells\":{\"fill\":{\"color\":\"#EBF0F8\"},\"line\":{\"color\":\"white\"}},\"header\":{\"fill\":{\"color\":\"#C8D4E3\"},\"line\":{\"color\":\"white\"}},\"type\":\"table\"}],\"barpolar\":[{\"marker\":{\"line\":{\"color\":\"#E5ECF6\",\"width\":0.5},\"pattern\":{\"fillmode\":\"overlay\",\"size\":10,\"solidity\":0.2}},\"type\":\"barpolar\"}],\"pie\":[{\"automargin\":true,\"type\":\"pie\"}]},\"layout\":{\"autotypenumbers\":\"strict\",\"colorway\":[\"#636efa\",\"#EF553B\",\"#00cc96\",\"#ab63fa\",\"#FFA15A\",\"#19d3f3\",\"#FF6692\",\"#B6E880\",\"#FF97FF\",\"#FECB52\"],\"font\":{\"color\":\"#2a3f5f\"},\"hovermode\":\"closest\",\"hoverlabel\":{\"align\":\"left\"},\"paper_bgcolor\":\"white\",\"plot_bgcolor\":\"#E5ECF6\",\"polar\":{\"bgcolor\":\"#E5ECF6\",\"angularaxis\":{\"gridcolor\":\"white\",\"linecolor\":\"white\",\"ticks\":\"\"},\"radialaxis\":{\"gridcolor\":\"white\",\"linecolor\":\"white\",\"ticks\":\"\"}},\"ternary\":{\"bgcolor\":\"#E5ECF6\",\"aaxis\":{\"gridcolor\":\"white\",\"linecolor\":\"white\",\"ticks\":\"\"},\"baxis\":{\"gridcolor\":\"white\",\"linecolor\":\"white\",\"ticks\":\"\"},\"caxis\":{\"gridcolor\":\"white\",\"linecolor\":\"white\",\"ticks\":\"\"}},\"coloraxis\":{\"colorbar\":{\"outlinewidth\":0,\"ticks\":\"\"}},\"colorscale\":{\"sequential\":[[0.0,\"#0d0887\"],[0.1111111111111111,\"#46039f\"],[0.2222222222222222,\"#7201a8\"],[0.3333333333333333,\"#9c179e\"],[0.4444444444444444,\"#bd3786\"],[0.5555555555555556,\"#d8576b\"],[0.6666666666666666,\"#ed7953\"],[0.7777777777777778,\"#fb9f3a\"],[0.8888888888888888,\"#fdca26\"],[1.0,\"#f0f921\"]],\"sequentialminus\":[[0.0,\"#0d0887\"],[0.1111111111111111,\"#46039f\"],[0.2222222222222222,\"#7201a8\"],[0.3333333333333333,\"#9c179e\"],[0.4444444444444444,\"#bd3786\"],[0.5555555555555556,\"#d8576b\"],[0.6666666666666666,\"#ed7953\"],[0.7777777777777778,\"#fb9f3a\"],[0.8888888888888888,\"#fdca26\"],[1.0,\"#f0f921\"]],\"diverging\":[[0,\"#8e0152\"],[0.1,\"#c51b7d\"],[0.2,\"#de77ae\"],[0.3,\"#f1b6da\"],[0.4,\"#fde0ef\"],[0.5,\"#f7f7f7\"],[0.6,\"#e6f5d0\"],[0.7,\"#b8e186\"],[0.8,\"#7fbc41\"],[0.9,\"#4d9221\"],[1,\"#276419\"]]},\"xaxis\":{\"gridcolor\":\"white\",\"linecolor\":\"white\",\"ticks\":\"\",\"title\":{\"standoff\":15},\"zerolinecolor\":\"white\",\"automargin\":true,\"zerolinewidth\":2},\"yaxis\":{\"gridcolor\":\"white\",\"linecolor\":\"white\",\"ticks\":\"\",\"title\":{\"standoff\":15},\"zerolinecolor\":\"white\",\"automargin\":true,\"zerolinewidth\":2},\"scene\":{\"xaxis\":{\"backgroundcolor\":\"#E5ECF6\",\"gridcolor\":\"white\",\"linecolor\":\"white\",\"showbackground\":true,\"ticks\":\"\",\"zerolinecolor\":\"white\",\"gridwidth\":2},\"yaxis\":{\"backgroundcolor\":\"#E5ECF6\",\"gridcolor\":\"white\",\"linecolor\":\"white\",\"showbackground\":true,\"ticks\":\"\",\"zerolinecolor\":\"white\",\"gridwidth\":2},\"zaxis\":{\"backgroundcolor\":\"#E5ECF6\",\"gridcolor\":\"white\",\"linecolor\":\"white\",\"showbackground\":true,\"ticks\":\"\",\"zerolinecolor\":\"white\",\"gridwidth\":2}},\"shapedefaults\":{\"line\":{\"color\":\"#2a3f5f\"}},\"annotationdefaults\":{\"arrowcolor\":\"#2a3f5f\",\"arrowhead\":0,\"arrowwidth\":1},\"geo\":{\"bgcolor\":\"white\",\"landcolor\":\"#E5ECF6\",\"subunitcolor\":\"white\",\"showland\":true,\"showlakes\":true,\"lakecolor\":\"white\"},\"title\":{\"x\":0.05},\"mapbox\":{\"style\":\"light\"}}},\"xaxis\":{\"anchor\":\"y\",\"domain\":[0.0,1.0],\"title\":{\"text\":\"เมนูอาหาร\"}},\"yaxis\":{\"anchor\":\"x\",\"domain\":[0.0,1.0],\"title\":{\"text\":\"จำนวนที่ขาย\"}},\"legend\":{\"tracegroupgap\":0},\"title\":{\"text\":\"Top 10 เมนูที่ขายดีที่สุด (จากจำนวนที่ขาย)\"},\"barmode\":\"relative\"},                        {\"responsive\": true}                    ).then(function(){\n",
              "                            \n",
              "var gd = document.getElementById('f7aa31cd-ff35-4cbe-8b6e-f641533b7c69');\n",
              "var x = new MutationObserver(function (mutations, observer) {{\n",
              "        var display = window.getComputedStyle(gd).display;\n",
              "        if (!display || display === 'none') {{\n",
              "            console.log([gd, 'removed!']);\n",
              "            Plotly.purge(gd);\n",
              "            observer.disconnect();\n",
              "        }}\n",
              "}});\n",
              "\n",
              "// Listen for the removal of the full notebook cells\n",
              "var notebookContainer = gd.closest('#notebook-container');\n",
              "if (notebookContainer) {{\n",
              "    x.observe(notebookContainer, {childList: true});\n",
              "}}\n",
              "\n",
              "// Listen for the clearing of the current output cell\n",
              "var outputEl = gd.closest('.output');\n",
              "if (outputEl) {{\n",
              "    x.observe(outputEl, {childList: true});\n",
              "}}\n",
              "\n",
              "                        })                };                            </script>        </div>\n",
              "</body>\n",
              "</html>"
            ]
          },
          "metadata": {}
        }
      ],
      "source": [
        "import pandas as pd\n",
        "import plotly.express as px\n",
        "\n",
        "url = \"https://raw.githubusercontent.com/justmarkham/DAT8/master/data/chipotle.tsv\"\n",
        "chipotle = pd.read_csv(url, sep='\\t')\n",
        "\n",
        "chipotle['item_price'] = chipotle['item_price'].str.replace('$', '').astype(float)\n",
        "\n",
        "sales_by_item = chipotle.groupby('item_name').agg({'quantity': 'sum', 'item_price': 'mean'})\n",
        "sales_by_item['total_sales'] = sales_by_item['quantity'] * sales_by_item['item_price']\n",
        "sales_by_item = sales_by_item.sort_values('total_sales', ascending=False).reset_index()\n",
        "\n",
        "# 1. กราฟ Bar chart: เมนูที่ขายดีที่สุด (ยอดขายรวมตามจำนวนที่ขาย)\n",
        "print('''คำถาม 1: เมนูไหนที่ขายดีที่สุด?''')\n",
        "print('''คำตอบ 1: จากกราฟ เมนูที่ขายดีที่สุดคือเมนูที่มีจำนวนขายสูงสุด (เช่น 'Chicken Bowl')''')\n",
        "\n",
        "fig1 = px.bar(sales_by_item.head(10), x='item_name', y='quantity',\n",
        "              title='Top 10 เมนูที่ขายดีที่สุด (จากจำนวนที่ขาย)',\n",
        "              labels={'quantity': 'จำนวนที่ขาย', 'item_name': 'เมนูอาหาร'})\n",
        "fig1.show()"
      ]
    },
    {
      "cell_type": "code",
      "source": [
        "# 2. กราฟ Bar chart: เมนูที่มีราคาสูงสุด (เฉลี่ยราคา)\n",
        "print('''คำถาม 2: เมนูไหนที่มีราคาสูงสุด?  ''')\n",
        "print('''คำตอบ 2: จากกราฟ เมนูที่มีราคาสูงสุดคือเมนูที่มีราคาเฉลี่ยต่อชิ้นสูงที่สุด (เช่น 'Bowl')''')\n",
        "fig2 = px.bar(sales_by_item.sort_values('item_price', ascending=False).head(10),\n",
        "              x='item_name', y='item_price',\n",
        "              title='Top 10 เมนูที่มีราคาสูงสุด (เฉลี่ยราคา)',\n",
        "              labels={'item_price': 'ราคาเฉลี่ย ($)', 'item_name': 'เมนูอาหาร'})\n",
        "fig2.show()"
      ],
      "metadata": {
        "colab": {
          "base_uri": "https://localhost:8080/",
          "height": 577
        },
        "id": "jek9fqYytfeI",
        "outputId": "cc91c208-9cf6-4388-d3a7-98d8a44468dc"
      },
      "execution_count": 2,
      "outputs": [
        {
          "output_type": "stream",
          "name": "stdout",
          "text": [
            "คำถาม 2: เมนูไหนที่มีราคาสูงสุด?  \n",
            "คำตอบ 2: จากกราฟ เมนูที่มีราคาสูงสุดคือเมนูที่มีราคาเฉลี่ยต่อชิ้นสูงที่สุด (เช่น 'Bowl')\n"
          ]
        },
        {
          "output_type": "display_data",
          "data": {
            "text/html": [
              "<html>\n",
              "<head><meta charset=\"utf-8\" /></head>\n",
              "<body>\n",
              "    <div>            <script src=\"https://cdnjs.cloudflare.com/ajax/libs/mathjax/2.7.5/MathJax.js?config=TeX-AMS-MML_SVG\"></script><script type=\"text/javascript\">if (window.MathJax && window.MathJax.Hub && window.MathJax.Hub.Config) {window.MathJax.Hub.Config({SVG: {font: \"STIX-Web\"}});}</script>                <script type=\"text/javascript\">window.PlotlyConfig = {MathJaxConfig: 'local'};</script>\n",
              "        <script charset=\"utf-8\" src=\"https://cdn.plot.ly/plotly-2.35.2.min.js\"></script>                <div id=\"ab61a926-5449-4e2e-8992-d4c45f92d0a2\" class=\"plotly-graph-div\" style=\"height:525px; width:100%;\"></div>            <script type=\"text/javascript\">                                    window.PLOTLYENV=window.PLOTLYENV || {};                                    if (document.getElementById(\"ab61a926-5449-4e2e-8992-d4c45f92d0a2\")) {                    Plotly.newPlot(                        \"ab61a926-5449-4e2e-8992-d4c45f92d0a2\",                        [{\"alignmentgroup\":\"True\",\"hovertemplate\":\"เมนูอาหาร=%{x}\\u003cbr\\u003eราคาเฉลี่ย ($)=%{y}\\u003cextra\\u003e\\u003c\\u002fextra\\u003e\",\"legendgroup\":\"\",\"marker\":{\"color\":\"#636efa\",\"pattern\":{\"shape\":\"\"}},\"name\":\"\",\"offsetgroup\":\"\",\"orientation\":\"v\",\"showlegend\":false,\"textposition\":\"auto\",\"x\":[\"Bowl\",\"Steak Salad Bowl\",\"Chicken Salad Bowl\",\"Carnitas Crispy Tacos\",\"Carnitas Salad Bowl\",\"Barbacoa Crispy Tacos\",\"Carnitas Bowl\",\"Steak Bowl\",\"Barbacoa Salad Bowl\",\"Veggie Soft Tacos\"],\"xaxis\":\"x\",\"y\":[14.8,11.847931034482759,11.170454545454545,11.137142857142859,11.056666666666667,10.928181818181818,10.833970588235294,10.7118009478673,10.64,10.565714285714288],\"yaxis\":\"y\",\"type\":\"bar\"}],                        {\"template\":{\"data\":{\"histogram2dcontour\":[{\"type\":\"histogram2dcontour\",\"colorbar\":{\"outlinewidth\":0,\"ticks\":\"\"},\"colorscale\":[[0.0,\"#0d0887\"],[0.1111111111111111,\"#46039f\"],[0.2222222222222222,\"#7201a8\"],[0.3333333333333333,\"#9c179e\"],[0.4444444444444444,\"#bd3786\"],[0.5555555555555556,\"#d8576b\"],[0.6666666666666666,\"#ed7953\"],[0.7777777777777778,\"#fb9f3a\"],[0.8888888888888888,\"#fdca26\"],[1.0,\"#f0f921\"]]}],\"choropleth\":[{\"type\":\"choropleth\",\"colorbar\":{\"outlinewidth\":0,\"ticks\":\"\"}}],\"histogram2d\":[{\"type\":\"histogram2d\",\"colorbar\":{\"outlinewidth\":0,\"ticks\":\"\"},\"colorscale\":[[0.0,\"#0d0887\"],[0.1111111111111111,\"#46039f\"],[0.2222222222222222,\"#7201a8\"],[0.3333333333333333,\"#9c179e\"],[0.4444444444444444,\"#bd3786\"],[0.5555555555555556,\"#d8576b\"],[0.6666666666666666,\"#ed7953\"],[0.7777777777777778,\"#fb9f3a\"],[0.8888888888888888,\"#fdca26\"],[1.0,\"#f0f921\"]]}],\"heatmap\":[{\"type\":\"heatmap\",\"colorbar\":{\"outlinewidth\":0,\"ticks\":\"\"},\"colorscale\":[[0.0,\"#0d0887\"],[0.1111111111111111,\"#46039f\"],[0.2222222222222222,\"#7201a8\"],[0.3333333333333333,\"#9c179e\"],[0.4444444444444444,\"#bd3786\"],[0.5555555555555556,\"#d8576b\"],[0.6666666666666666,\"#ed7953\"],[0.7777777777777778,\"#fb9f3a\"],[0.8888888888888888,\"#fdca26\"],[1.0,\"#f0f921\"]]}],\"heatmapgl\":[{\"type\":\"heatmapgl\",\"colorbar\":{\"outlinewidth\":0,\"ticks\":\"\"},\"colorscale\":[[0.0,\"#0d0887\"],[0.1111111111111111,\"#46039f\"],[0.2222222222222222,\"#7201a8\"],[0.3333333333333333,\"#9c179e\"],[0.4444444444444444,\"#bd3786\"],[0.5555555555555556,\"#d8576b\"],[0.6666666666666666,\"#ed7953\"],[0.7777777777777778,\"#fb9f3a\"],[0.8888888888888888,\"#fdca26\"],[1.0,\"#f0f921\"]]}],\"contourcarpet\":[{\"type\":\"contourcarpet\",\"colorbar\":{\"outlinewidth\":0,\"ticks\":\"\"}}],\"contour\":[{\"type\":\"contour\",\"colorbar\":{\"outlinewidth\":0,\"ticks\":\"\"},\"colorscale\":[[0.0,\"#0d0887\"],[0.1111111111111111,\"#46039f\"],[0.2222222222222222,\"#7201a8\"],[0.3333333333333333,\"#9c179e\"],[0.4444444444444444,\"#bd3786\"],[0.5555555555555556,\"#d8576b\"],[0.6666666666666666,\"#ed7953\"],[0.7777777777777778,\"#fb9f3a\"],[0.8888888888888888,\"#fdca26\"],[1.0,\"#f0f921\"]]}],\"surface\":[{\"type\":\"surface\",\"colorbar\":{\"outlinewidth\":0,\"ticks\":\"\"},\"colorscale\":[[0.0,\"#0d0887\"],[0.1111111111111111,\"#46039f\"],[0.2222222222222222,\"#7201a8\"],[0.3333333333333333,\"#9c179e\"],[0.4444444444444444,\"#bd3786\"],[0.5555555555555556,\"#d8576b\"],[0.6666666666666666,\"#ed7953\"],[0.7777777777777778,\"#fb9f3a\"],[0.8888888888888888,\"#fdca26\"],[1.0,\"#f0f921\"]]}],\"mesh3d\":[{\"type\":\"mesh3d\",\"colorbar\":{\"outlinewidth\":0,\"ticks\":\"\"}}],\"scatter\":[{\"fillpattern\":{\"fillmode\":\"overlay\",\"size\":10,\"solidity\":0.2},\"type\":\"scatter\"}],\"parcoords\":[{\"type\":\"parcoords\",\"line\":{\"colorbar\":{\"outlinewidth\":0,\"ticks\":\"\"}}}],\"scatterpolargl\":[{\"type\":\"scatterpolargl\",\"marker\":{\"colorbar\":{\"outlinewidth\":0,\"ticks\":\"\"}}}],\"bar\":[{\"error_x\":{\"color\":\"#2a3f5f\"},\"error_y\":{\"color\":\"#2a3f5f\"},\"marker\":{\"line\":{\"color\":\"#E5ECF6\",\"width\":0.5},\"pattern\":{\"fillmode\":\"overlay\",\"size\":10,\"solidity\":0.2}},\"type\":\"bar\"}],\"scattergeo\":[{\"type\":\"scattergeo\",\"marker\":{\"colorbar\":{\"outlinewidth\":0,\"ticks\":\"\"}}}],\"scatterpolar\":[{\"type\":\"scatterpolar\",\"marker\":{\"colorbar\":{\"outlinewidth\":0,\"ticks\":\"\"}}}],\"histogram\":[{\"marker\":{\"pattern\":{\"fillmode\":\"overlay\",\"size\":10,\"solidity\":0.2}},\"type\":\"histogram\"}],\"scattergl\":[{\"type\":\"scattergl\",\"marker\":{\"colorbar\":{\"outlinewidth\":0,\"ticks\":\"\"}}}],\"scatter3d\":[{\"type\":\"scatter3d\",\"line\":{\"colorbar\":{\"outlinewidth\":0,\"ticks\":\"\"}},\"marker\":{\"colorbar\":{\"outlinewidth\":0,\"ticks\":\"\"}}}],\"scattermapbox\":[{\"type\":\"scattermapbox\",\"marker\":{\"colorbar\":{\"outlinewidth\":0,\"ticks\":\"\"}}}],\"scatterternary\":[{\"type\":\"scatterternary\",\"marker\":{\"colorbar\":{\"outlinewidth\":0,\"ticks\":\"\"}}}],\"scattercarpet\":[{\"type\":\"scattercarpet\",\"marker\":{\"colorbar\":{\"outlinewidth\":0,\"ticks\":\"\"}}}],\"carpet\":[{\"aaxis\":{\"endlinecolor\":\"#2a3f5f\",\"gridcolor\":\"white\",\"linecolor\":\"white\",\"minorgridcolor\":\"white\",\"startlinecolor\":\"#2a3f5f\"},\"baxis\":{\"endlinecolor\":\"#2a3f5f\",\"gridcolor\":\"white\",\"linecolor\":\"white\",\"minorgridcolor\":\"white\",\"startlinecolor\":\"#2a3f5f\"},\"type\":\"carpet\"}],\"table\":[{\"cells\":{\"fill\":{\"color\":\"#EBF0F8\"},\"line\":{\"color\":\"white\"}},\"header\":{\"fill\":{\"color\":\"#C8D4E3\"},\"line\":{\"color\":\"white\"}},\"type\":\"table\"}],\"barpolar\":[{\"marker\":{\"line\":{\"color\":\"#E5ECF6\",\"width\":0.5},\"pattern\":{\"fillmode\":\"overlay\",\"size\":10,\"solidity\":0.2}},\"type\":\"barpolar\"}],\"pie\":[{\"automargin\":true,\"type\":\"pie\"}]},\"layout\":{\"autotypenumbers\":\"strict\",\"colorway\":[\"#636efa\",\"#EF553B\",\"#00cc96\",\"#ab63fa\",\"#FFA15A\",\"#19d3f3\",\"#FF6692\",\"#B6E880\",\"#FF97FF\",\"#FECB52\"],\"font\":{\"color\":\"#2a3f5f\"},\"hovermode\":\"closest\",\"hoverlabel\":{\"align\":\"left\"},\"paper_bgcolor\":\"white\",\"plot_bgcolor\":\"#E5ECF6\",\"polar\":{\"bgcolor\":\"#E5ECF6\",\"angularaxis\":{\"gridcolor\":\"white\",\"linecolor\":\"white\",\"ticks\":\"\"},\"radialaxis\":{\"gridcolor\":\"white\",\"linecolor\":\"white\",\"ticks\":\"\"}},\"ternary\":{\"bgcolor\":\"#E5ECF6\",\"aaxis\":{\"gridcolor\":\"white\",\"linecolor\":\"white\",\"ticks\":\"\"},\"baxis\":{\"gridcolor\":\"white\",\"linecolor\":\"white\",\"ticks\":\"\"},\"caxis\":{\"gridcolor\":\"white\",\"linecolor\":\"white\",\"ticks\":\"\"}},\"coloraxis\":{\"colorbar\":{\"outlinewidth\":0,\"ticks\":\"\"}},\"colorscale\":{\"sequential\":[[0.0,\"#0d0887\"],[0.1111111111111111,\"#46039f\"],[0.2222222222222222,\"#7201a8\"],[0.3333333333333333,\"#9c179e\"],[0.4444444444444444,\"#bd3786\"],[0.5555555555555556,\"#d8576b\"],[0.6666666666666666,\"#ed7953\"],[0.7777777777777778,\"#fb9f3a\"],[0.8888888888888888,\"#fdca26\"],[1.0,\"#f0f921\"]],\"sequentialminus\":[[0.0,\"#0d0887\"],[0.1111111111111111,\"#46039f\"],[0.2222222222222222,\"#7201a8\"],[0.3333333333333333,\"#9c179e\"],[0.4444444444444444,\"#bd3786\"],[0.5555555555555556,\"#d8576b\"],[0.6666666666666666,\"#ed7953\"],[0.7777777777777778,\"#fb9f3a\"],[0.8888888888888888,\"#fdca26\"],[1.0,\"#f0f921\"]],\"diverging\":[[0,\"#8e0152\"],[0.1,\"#c51b7d\"],[0.2,\"#de77ae\"],[0.3,\"#f1b6da\"],[0.4,\"#fde0ef\"],[0.5,\"#f7f7f7\"],[0.6,\"#e6f5d0\"],[0.7,\"#b8e186\"],[0.8,\"#7fbc41\"],[0.9,\"#4d9221\"],[1,\"#276419\"]]},\"xaxis\":{\"gridcolor\":\"white\",\"linecolor\":\"white\",\"ticks\":\"\",\"title\":{\"standoff\":15},\"zerolinecolor\":\"white\",\"automargin\":true,\"zerolinewidth\":2},\"yaxis\":{\"gridcolor\":\"white\",\"linecolor\":\"white\",\"ticks\":\"\",\"title\":{\"standoff\":15},\"zerolinecolor\":\"white\",\"automargin\":true,\"zerolinewidth\":2},\"scene\":{\"xaxis\":{\"backgroundcolor\":\"#E5ECF6\",\"gridcolor\":\"white\",\"linecolor\":\"white\",\"showbackground\":true,\"ticks\":\"\",\"zerolinecolor\":\"white\",\"gridwidth\":2},\"yaxis\":{\"backgroundcolor\":\"#E5ECF6\",\"gridcolor\":\"white\",\"linecolor\":\"white\",\"showbackground\":true,\"ticks\":\"\",\"zerolinecolor\":\"white\",\"gridwidth\":2},\"zaxis\":{\"backgroundcolor\":\"#E5ECF6\",\"gridcolor\":\"white\",\"linecolor\":\"white\",\"showbackground\":true,\"ticks\":\"\",\"zerolinecolor\":\"white\",\"gridwidth\":2}},\"shapedefaults\":{\"line\":{\"color\":\"#2a3f5f\"}},\"annotationdefaults\":{\"arrowcolor\":\"#2a3f5f\",\"arrowhead\":0,\"arrowwidth\":1},\"geo\":{\"bgcolor\":\"white\",\"landcolor\":\"#E5ECF6\",\"subunitcolor\":\"white\",\"showland\":true,\"showlakes\":true,\"lakecolor\":\"white\"},\"title\":{\"x\":0.05},\"mapbox\":{\"style\":\"light\"}}},\"xaxis\":{\"anchor\":\"y\",\"domain\":[0.0,1.0],\"title\":{\"text\":\"เมนูอาหาร\"}},\"yaxis\":{\"anchor\":\"x\",\"domain\":[0.0,1.0],\"title\":{\"text\":\"ราคาเฉลี่ย ($)\"}},\"legend\":{\"tracegroupgap\":0},\"title\":{\"text\":\"Top 10 เมนูที่มีราคาสูงสุด (เฉลี่ยราคา)\"},\"barmode\":\"relative\"},                        {\"responsive\": true}                    ).then(function(){\n",
              "                            \n",
              "var gd = document.getElementById('ab61a926-5449-4e2e-8992-d4c45f92d0a2');\n",
              "var x = new MutationObserver(function (mutations, observer) {{\n",
              "        var display = window.getComputedStyle(gd).display;\n",
              "        if (!display || display === 'none') {{\n",
              "            console.log([gd, 'removed!']);\n",
              "            Plotly.purge(gd);\n",
              "            observer.disconnect();\n",
              "        }}\n",
              "}});\n",
              "\n",
              "// Listen for the removal of the full notebook cells\n",
              "var notebookContainer = gd.closest('#notebook-container');\n",
              "if (notebookContainer) {{\n",
              "    x.observe(notebookContainer, {childList: true});\n",
              "}}\n",
              "\n",
              "// Listen for the clearing of the current output cell\n",
              "var outputEl = gd.closest('.output');\n",
              "if (outputEl) {{\n",
              "    x.observe(outputEl, {childList: true});\n",
              "}}\n",
              "\n",
              "                        })                };                            </script>        </div>\n",
              "</body>\n",
              "</html>"
            ]
          },
          "metadata": {}
        }
      ]
    },
    {
      "cell_type": "code",
      "source": [
        "import plotly.graph_objects as go\n",
        "\n",
        "chipotle['total_sales'] = chipotle['quantity'] * chipotle['item_price']\n",
        "sales_by_item = chipotle.groupby('item_name')['total_sales'].sum().reset_index()\n",
        "\n",
        "sales_by_item = sales_by_item.sort_values(by='total_sales', ascending=False).reset_index(drop=True)\n",
        "\n",
        "sales_by_item['cumulative_sales'] = sales_by_item['total_sales'].cumsum()\n",
        "total_sales_sum = sales_by_item['total_sales'].sum()\n",
        "sales_by_item['cumulative_percent'] = 100 * sales_by_item['cumulative_sales'] / total_sales_sum\n",
        "\n",
        "fig = go.Figure()\n",
        "\n",
        "fig.add_trace(go.Bar(\n",
        "    x=sales_by_item['item_name'],\n",
        "    y=sales_by_item['total_sales'],\n",
        "    name='ยอดขายรวมต่อสินค้า',\n",
        "    marker_color='steelblue',\n",
        "))\n",
        "\n",
        "fig.add_trace(go.Scatter(\n",
        "    x=sales_by_item['item_name'],\n",
        "    y=sales_by_item['cumulative_percent'],\n",
        "    name='เปอร์เซ็นต์สะสม',\n",
        "    yaxis='y2',\n",
        "    mode='lines+markers',\n",
        "    marker_color='orange',\n",
        "))\n",
        "\n",
        "fig.update_layout(\n",
        "    title='Pareto Chart: ยอดขายรวมต่อสินค้า Chipotle',\n",
        "    xaxis=dict(title='สินค้า (item_name)', tickangle=-45),\n",
        "    yaxis=dict(title='ยอดขายรวม ($)'),\n",
        "    yaxis2=dict(\n",
        "        title='เปอร์เซ็นต์สะสม (%)',\n",
        "        overlaying='y',\n",
        "        side='right',\n",
        "        range=[0, 110],\n",
        "        showgrid=False,\n",
        "    ),\n",
        "    legend=dict(x=0.75, y=1.15, orientation='h'),\n",
        "    margin=dict(b=150),\n",
        "    height=600,\n",
        ")\n",
        "\n",
        "fig.show()"
      ],
      "metadata": {
        "colab": {
          "base_uri": "https://localhost:8080/",
          "height": 617
        },
        "id": "e-j2aK8rrb4R",
        "outputId": "1f1efe2b-39cb-4522-9921-5fb00e577b44"
      },
      "execution_count": 5,
      "outputs": [
        {
          "output_type": "display_data",
          "data": {
            "text/html": [
              "<html>\n",
              "<head><meta charset=\"utf-8\" /></head>\n",
              "<body>\n",
              "    <div>            <script src=\"https://cdnjs.cloudflare.com/ajax/libs/mathjax/2.7.5/MathJax.js?config=TeX-AMS-MML_SVG\"></script><script type=\"text/javascript\">if (window.MathJax && window.MathJax.Hub && window.MathJax.Hub.Config) {window.MathJax.Hub.Config({SVG: {font: \"STIX-Web\"}});}</script>                <script type=\"text/javascript\">window.PlotlyConfig = {MathJaxConfig: 'local'};</script>\n",
              "        <script charset=\"utf-8\" src=\"https://cdn.plot.ly/plotly-2.35.2.min.js\"></script>                <div id=\"08c4390d-8095-4c1b-b8fe-1a003bdd8814\" class=\"plotly-graph-div\" style=\"height:600px; width:100%;\"></div>            <script type=\"text/javascript\">                                    window.PLOTLYENV=window.PLOTLYENV || {};                                    if (document.getElementById(\"08c4390d-8095-4c1b-b8fe-1a003bdd8814\")) {                    Plotly.newPlot(                        \"08c4390d-8095-4c1b-b8fe-1a003bdd8814\",                        [{\"marker\":{\"color\":\"steelblue\"},\"name\":\"ยอดขายรวมต่อสินค้า\",\"x\":[\"Chicken Bowl\",\"Chicken Burrito\",\"Steak Burrito\",\"Steak Bowl\",\"Chips and Guacamole\",\"Chicken Salad Bowl\",\"Chicken Soft Tacos\",\"Chips and Fresh Tomato Salsa\",\"Veggie Burrito\",\"Veggie Bowl\",\"Barbacoa Burrito\",\"Carnitas Bowl\",\"Barbacoa Bowl\",\"Bottled Water\",\"Carnitas Burrito\",\"Canned Soft Drink\",\"Chips\",\"Steak Soft Tacos\",\"Chicken Crispy Tacos\",\"Steak Salad Bowl\",\"Carnitas Soft Tacos\",\"Steak Crispy Tacos\",\"6 Pack Soft Drink\",\"Side of Chips\",\"Barbacoa Soft Tacos\",\"Canned Soda\",\"Veggie Salad Bowl\",\"Chips and Tomatillo Red Chili Salsa\",\"Chips and Tomatillo Green Chili Salsa\",\"Barbacoa Crispy Tacos\",\"Nantucket Nectar\",\"Barbacoa Salad Bowl\",\"Carnitas Crispy Tacos\",\"Chips and Tomatillo-Red Chili Salsa\",\"Veggie Soft Tacos\",\"Chips and Tomatillo-Green Chili Salsa\",\"Chicken Salad\",\"Bowl\",\"Chips and Roasted Chili Corn Salsa\",\"Izze\",\"Carnitas Salad Bowl\",\"Veggie Salad\",\"Burrito\",\"Chips and Roasted Chili-Corn Salsa\",\"Steak Salad\",\"Salad\",\"Crispy Tacos\",\"Carnitas Salad\",\"Veggie Crispy Tacos\",\"Chips and Mild Fresh Tomato Salsa\"],\"y\":[8044.63,6387.06,4236.13,2479.81,2475.62,1506.25,1199.01,1033.96,1002.27,901.95,894.75,830.71,672.36,649.1800000000001,616.33,603.75,580.34,554.55,524.11,391.15000000000003,375.94,375.32,369.93,290.68,250.46,191.84,182.5,159.3,144.55,138.71,111.87,106.4,95.94,93.21,90.94,88.43,81.09,74.0,73.75,67.8,66.34,50.94,44.400000000000006,43.02,35.66,14.8,14.8,8.99,8.49,3.0],\"type\":\"bar\"},{\"marker\":{\"color\":\"orange\"},\"mode\":\"lines+markers\",\"name\":\"เปอร์เซ็นต์สะสม\",\"x\":[\"Chicken Bowl\",\"Chicken Burrito\",\"Steak Burrito\",\"Steak Bowl\",\"Chips and Guacamole\",\"Chicken Salad Bowl\",\"Chicken Soft Tacos\",\"Chips and Fresh Tomato Salsa\",\"Veggie Burrito\",\"Veggie Bowl\",\"Barbacoa Burrito\",\"Carnitas Bowl\",\"Barbacoa Bowl\",\"Bottled Water\",\"Carnitas Burrito\",\"Canned Soft Drink\",\"Chips\",\"Steak Soft Tacos\",\"Chicken Crispy Tacos\",\"Steak Salad Bowl\",\"Carnitas Soft Tacos\",\"Steak Crispy Tacos\",\"6 Pack Soft Drink\",\"Side of Chips\",\"Barbacoa Soft Tacos\",\"Canned Soda\",\"Veggie Salad Bowl\",\"Chips and Tomatillo Red Chili Salsa\",\"Chips and Tomatillo Green Chili Salsa\",\"Barbacoa Crispy Tacos\",\"Nantucket Nectar\",\"Barbacoa Salad Bowl\",\"Carnitas Crispy Tacos\",\"Chips and Tomatillo-Red Chili Salsa\",\"Veggie Soft Tacos\",\"Chips and Tomatillo-Green Chili Salsa\",\"Chicken Salad\",\"Bowl\",\"Chips and Roasted Chili Corn Salsa\",\"Izze\",\"Carnitas Salad Bowl\",\"Veggie Salad\",\"Burrito\",\"Chips and Roasted Chili-Corn Salsa\",\"Steak Salad\",\"Salad\",\"Crispy Tacos\",\"Carnitas Salad\",\"Veggie Crispy Tacos\",\"Chips and Mild Fresh Tomato Salsa\"],\"y\":[20.50265285182208,36.78080037678703,47.57705860434865,53.89713591908866,60.20653454314319,64.04538367082924,67.10119677794084,69.73636122213153,72.29076010359604,74.58948207585593,76.86985403070877,78.98701277518018,80.70059856737338,82.35510749797004,83.92589447414711,85.46461989213248,86.9436822674097,88.35701589978035,89.69276973633573,90.68965991810796,91.64778568810782,92.60433131771985,93.54713992041191,94.28797090095019,94.92629664536196,95.41522266471816,95.88034463371581,96.28633876884636,96.65474085442779,97.0082590370013,97.29337243246303,97.56454491192248,97.80905889387118,98.04661516088636,98.27838607519126,98.503759969539,98.71042704058567,98.89902444171348,99.0869846894591,99.25978068670865,99.4288557082062,99.55868208136096,99.67184052203764,99.78148187604464,99.87236543448002,99.91008491470559,99.94780439493115,99.97071643055466,99.99235415941376,100.00000000000003],\"yaxis\":\"y2\",\"type\":\"scatter\"}],                        {\"template\":{\"data\":{\"histogram2dcontour\":[{\"type\":\"histogram2dcontour\",\"colorbar\":{\"outlinewidth\":0,\"ticks\":\"\"},\"colorscale\":[[0.0,\"#0d0887\"],[0.1111111111111111,\"#46039f\"],[0.2222222222222222,\"#7201a8\"],[0.3333333333333333,\"#9c179e\"],[0.4444444444444444,\"#bd3786\"],[0.5555555555555556,\"#d8576b\"],[0.6666666666666666,\"#ed7953\"],[0.7777777777777778,\"#fb9f3a\"],[0.8888888888888888,\"#fdca26\"],[1.0,\"#f0f921\"]]}],\"choropleth\":[{\"type\":\"choropleth\",\"colorbar\":{\"outlinewidth\":0,\"ticks\":\"\"}}],\"histogram2d\":[{\"type\":\"histogram2d\",\"colorbar\":{\"outlinewidth\":0,\"ticks\":\"\"},\"colorscale\":[[0.0,\"#0d0887\"],[0.1111111111111111,\"#46039f\"],[0.2222222222222222,\"#7201a8\"],[0.3333333333333333,\"#9c179e\"],[0.4444444444444444,\"#bd3786\"],[0.5555555555555556,\"#d8576b\"],[0.6666666666666666,\"#ed7953\"],[0.7777777777777778,\"#fb9f3a\"],[0.8888888888888888,\"#fdca26\"],[1.0,\"#f0f921\"]]}],\"heatmap\":[{\"type\":\"heatmap\",\"colorbar\":{\"outlinewidth\":0,\"ticks\":\"\"},\"colorscale\":[[0.0,\"#0d0887\"],[0.1111111111111111,\"#46039f\"],[0.2222222222222222,\"#7201a8\"],[0.3333333333333333,\"#9c179e\"],[0.4444444444444444,\"#bd3786\"],[0.5555555555555556,\"#d8576b\"],[0.6666666666666666,\"#ed7953\"],[0.7777777777777778,\"#fb9f3a\"],[0.8888888888888888,\"#fdca26\"],[1.0,\"#f0f921\"]]}],\"heatmapgl\":[{\"type\":\"heatmapgl\",\"colorbar\":{\"outlinewidth\":0,\"ticks\":\"\"},\"colorscale\":[[0.0,\"#0d0887\"],[0.1111111111111111,\"#46039f\"],[0.2222222222222222,\"#7201a8\"],[0.3333333333333333,\"#9c179e\"],[0.4444444444444444,\"#bd3786\"],[0.5555555555555556,\"#d8576b\"],[0.6666666666666666,\"#ed7953\"],[0.7777777777777778,\"#fb9f3a\"],[0.8888888888888888,\"#fdca26\"],[1.0,\"#f0f921\"]]}],\"contourcarpet\":[{\"type\":\"contourcarpet\",\"colorbar\":{\"outlinewidth\":0,\"ticks\":\"\"}}],\"contour\":[{\"type\":\"contour\",\"colorbar\":{\"outlinewidth\":0,\"ticks\":\"\"},\"colorscale\":[[0.0,\"#0d0887\"],[0.1111111111111111,\"#46039f\"],[0.2222222222222222,\"#7201a8\"],[0.3333333333333333,\"#9c179e\"],[0.4444444444444444,\"#bd3786\"],[0.5555555555555556,\"#d8576b\"],[0.6666666666666666,\"#ed7953\"],[0.7777777777777778,\"#fb9f3a\"],[0.8888888888888888,\"#fdca26\"],[1.0,\"#f0f921\"]]}],\"surface\":[{\"type\":\"surface\",\"colorbar\":{\"outlinewidth\":0,\"ticks\":\"\"},\"colorscale\":[[0.0,\"#0d0887\"],[0.1111111111111111,\"#46039f\"],[0.2222222222222222,\"#7201a8\"],[0.3333333333333333,\"#9c179e\"],[0.4444444444444444,\"#bd3786\"],[0.5555555555555556,\"#d8576b\"],[0.6666666666666666,\"#ed7953\"],[0.7777777777777778,\"#fb9f3a\"],[0.8888888888888888,\"#fdca26\"],[1.0,\"#f0f921\"]]}],\"mesh3d\":[{\"type\":\"mesh3d\",\"colorbar\":{\"outlinewidth\":0,\"ticks\":\"\"}}],\"scatter\":[{\"fillpattern\":{\"fillmode\":\"overlay\",\"size\":10,\"solidity\":0.2},\"type\":\"scatter\"}],\"parcoords\":[{\"type\":\"parcoords\",\"line\":{\"colorbar\":{\"outlinewidth\":0,\"ticks\":\"\"}}}],\"scatterpolargl\":[{\"type\":\"scatterpolargl\",\"marker\":{\"colorbar\":{\"outlinewidth\":0,\"ticks\":\"\"}}}],\"bar\":[{\"error_x\":{\"color\":\"#2a3f5f\"},\"error_y\":{\"color\":\"#2a3f5f\"},\"marker\":{\"line\":{\"color\":\"#E5ECF6\",\"width\":0.5},\"pattern\":{\"fillmode\":\"overlay\",\"size\":10,\"solidity\":0.2}},\"type\":\"bar\"}],\"scattergeo\":[{\"type\":\"scattergeo\",\"marker\":{\"colorbar\":{\"outlinewidth\":0,\"ticks\":\"\"}}}],\"scatterpolar\":[{\"type\":\"scatterpolar\",\"marker\":{\"colorbar\":{\"outlinewidth\":0,\"ticks\":\"\"}}}],\"histogram\":[{\"marker\":{\"pattern\":{\"fillmode\":\"overlay\",\"size\":10,\"solidity\":0.2}},\"type\":\"histogram\"}],\"scattergl\":[{\"type\":\"scattergl\",\"marker\":{\"colorbar\":{\"outlinewidth\":0,\"ticks\":\"\"}}}],\"scatter3d\":[{\"type\":\"scatter3d\",\"line\":{\"colorbar\":{\"outlinewidth\":0,\"ticks\":\"\"}},\"marker\":{\"colorbar\":{\"outlinewidth\":0,\"ticks\":\"\"}}}],\"scattermapbox\":[{\"type\":\"scattermapbox\",\"marker\":{\"colorbar\":{\"outlinewidth\":0,\"ticks\":\"\"}}}],\"scatterternary\":[{\"type\":\"scatterternary\",\"marker\":{\"colorbar\":{\"outlinewidth\":0,\"ticks\":\"\"}}}],\"scattercarpet\":[{\"type\":\"scattercarpet\",\"marker\":{\"colorbar\":{\"outlinewidth\":0,\"ticks\":\"\"}}}],\"carpet\":[{\"aaxis\":{\"endlinecolor\":\"#2a3f5f\",\"gridcolor\":\"white\",\"linecolor\":\"white\",\"minorgridcolor\":\"white\",\"startlinecolor\":\"#2a3f5f\"},\"baxis\":{\"endlinecolor\":\"#2a3f5f\",\"gridcolor\":\"white\",\"linecolor\":\"white\",\"minorgridcolor\":\"white\",\"startlinecolor\":\"#2a3f5f\"},\"type\":\"carpet\"}],\"table\":[{\"cells\":{\"fill\":{\"color\":\"#EBF0F8\"},\"line\":{\"color\":\"white\"}},\"header\":{\"fill\":{\"color\":\"#C8D4E3\"},\"line\":{\"color\":\"white\"}},\"type\":\"table\"}],\"barpolar\":[{\"marker\":{\"line\":{\"color\":\"#E5ECF6\",\"width\":0.5},\"pattern\":{\"fillmode\":\"overlay\",\"size\":10,\"solidity\":0.2}},\"type\":\"barpolar\"}],\"pie\":[{\"automargin\":true,\"type\":\"pie\"}]},\"layout\":{\"autotypenumbers\":\"strict\",\"colorway\":[\"#636efa\",\"#EF553B\",\"#00cc96\",\"#ab63fa\",\"#FFA15A\",\"#19d3f3\",\"#FF6692\",\"#B6E880\",\"#FF97FF\",\"#FECB52\"],\"font\":{\"color\":\"#2a3f5f\"},\"hovermode\":\"closest\",\"hoverlabel\":{\"align\":\"left\"},\"paper_bgcolor\":\"white\",\"plot_bgcolor\":\"#E5ECF6\",\"polar\":{\"bgcolor\":\"#E5ECF6\",\"angularaxis\":{\"gridcolor\":\"white\",\"linecolor\":\"white\",\"ticks\":\"\"},\"radialaxis\":{\"gridcolor\":\"white\",\"linecolor\":\"white\",\"ticks\":\"\"}},\"ternary\":{\"bgcolor\":\"#E5ECF6\",\"aaxis\":{\"gridcolor\":\"white\",\"linecolor\":\"white\",\"ticks\":\"\"},\"baxis\":{\"gridcolor\":\"white\",\"linecolor\":\"white\",\"ticks\":\"\"},\"caxis\":{\"gridcolor\":\"white\",\"linecolor\":\"white\",\"ticks\":\"\"}},\"coloraxis\":{\"colorbar\":{\"outlinewidth\":0,\"ticks\":\"\"}},\"colorscale\":{\"sequential\":[[0.0,\"#0d0887\"],[0.1111111111111111,\"#46039f\"],[0.2222222222222222,\"#7201a8\"],[0.3333333333333333,\"#9c179e\"],[0.4444444444444444,\"#bd3786\"],[0.5555555555555556,\"#d8576b\"],[0.6666666666666666,\"#ed7953\"],[0.7777777777777778,\"#fb9f3a\"],[0.8888888888888888,\"#fdca26\"],[1.0,\"#f0f921\"]],\"sequentialminus\":[[0.0,\"#0d0887\"],[0.1111111111111111,\"#46039f\"],[0.2222222222222222,\"#7201a8\"],[0.3333333333333333,\"#9c179e\"],[0.4444444444444444,\"#bd3786\"],[0.5555555555555556,\"#d8576b\"],[0.6666666666666666,\"#ed7953\"],[0.7777777777777778,\"#fb9f3a\"],[0.8888888888888888,\"#fdca26\"],[1.0,\"#f0f921\"]],\"diverging\":[[0,\"#8e0152\"],[0.1,\"#c51b7d\"],[0.2,\"#de77ae\"],[0.3,\"#f1b6da\"],[0.4,\"#fde0ef\"],[0.5,\"#f7f7f7\"],[0.6,\"#e6f5d0\"],[0.7,\"#b8e186\"],[0.8,\"#7fbc41\"],[0.9,\"#4d9221\"],[1,\"#276419\"]]},\"xaxis\":{\"gridcolor\":\"white\",\"linecolor\":\"white\",\"ticks\":\"\",\"title\":{\"standoff\":15},\"zerolinecolor\":\"white\",\"automargin\":true,\"zerolinewidth\":2},\"yaxis\":{\"gridcolor\":\"white\",\"linecolor\":\"white\",\"ticks\":\"\",\"title\":{\"standoff\":15},\"zerolinecolor\":\"white\",\"automargin\":true,\"zerolinewidth\":2},\"scene\":{\"xaxis\":{\"backgroundcolor\":\"#E5ECF6\",\"gridcolor\":\"white\",\"linecolor\":\"white\",\"showbackground\":true,\"ticks\":\"\",\"zerolinecolor\":\"white\",\"gridwidth\":2},\"yaxis\":{\"backgroundcolor\":\"#E5ECF6\",\"gridcolor\":\"white\",\"linecolor\":\"white\",\"showbackground\":true,\"ticks\":\"\",\"zerolinecolor\":\"white\",\"gridwidth\":2},\"zaxis\":{\"backgroundcolor\":\"#E5ECF6\",\"gridcolor\":\"white\",\"linecolor\":\"white\",\"showbackground\":true,\"ticks\":\"\",\"zerolinecolor\":\"white\",\"gridwidth\":2}},\"shapedefaults\":{\"line\":{\"color\":\"#2a3f5f\"}},\"annotationdefaults\":{\"arrowcolor\":\"#2a3f5f\",\"arrowhead\":0,\"arrowwidth\":1},\"geo\":{\"bgcolor\":\"white\",\"landcolor\":\"#E5ECF6\",\"subunitcolor\":\"white\",\"showland\":true,\"showlakes\":true,\"lakecolor\":\"white\"},\"title\":{\"x\":0.05},\"mapbox\":{\"style\":\"light\"}}},\"xaxis\":{\"title\":{\"text\":\"สินค้า (item_name)\"},\"tickangle\":-45},\"yaxis2\":{\"title\":{\"text\":\"เปอร์เซ็นต์สะสม (%)\"},\"overlaying\":\"y\",\"side\":\"right\",\"range\":[0,110],\"showgrid\":false},\"legend\":{\"x\":0.75,\"y\":1.15,\"orientation\":\"h\"},\"margin\":{\"b\":150},\"title\":{\"text\":\"Pareto Chart: ยอดขายรวมต่อสินค้า Chipotle\"},\"yaxis\":{\"title\":{\"text\":\"ยอดขายรวม ($)\"}},\"height\":600},                        {\"responsive\": true}                    ).then(function(){\n",
              "                            \n",
              "var gd = document.getElementById('08c4390d-8095-4c1b-b8fe-1a003bdd8814');\n",
              "var x = new MutationObserver(function (mutations, observer) {{\n",
              "        var display = window.getComputedStyle(gd).display;\n",
              "        if (!display || display === 'none') {{\n",
              "            console.log([gd, 'removed!']);\n",
              "            Plotly.purge(gd);\n",
              "            observer.disconnect();\n",
              "        }}\n",
              "}});\n",
              "\n",
              "// Listen for the removal of the full notebook cells\n",
              "var notebookContainer = gd.closest('#notebook-container');\n",
              "if (notebookContainer) {{\n",
              "    x.observe(notebookContainer, {childList: true});\n",
              "}}\n",
              "\n",
              "// Listen for the clearing of the current output cell\n",
              "var outputEl = gd.closest('.output');\n",
              "if (outputEl) {{\n",
              "    x.observe(outputEl, {childList: true});\n",
              "}}\n",
              "\n",
              "                        })                };                            </script>        </div>\n",
              "</body>\n",
              "</html>"
            ]
          },
          "metadata": {}
        }
      ]
    },
    {
      "cell_type": "code",
      "source": [
        "import plotly.express as px\n",
        "\n",
        "# Calculate order totals (sum of line item prices); note: item_price is already line total in this dataset\n",
        "order_totals = chipotle.groupby('order_id', as_index=False)['item_price'].sum().rename(columns={'item_price':'order_total'})\n",
        "\n",
        "# Show head and basic stats\n",
        "print(order_totals.head())\n",
        "print(order_totals['order_total'].describe())\n",
        "\n",
        "\n",
        "# Boxplot for spread and outliers using plotly.express\n",
        "fig_box = px.box(order_totals, x='order_total',\n",
        "                 title='Order Total Spread and Outliers',\n",
        "                 labels={'order_total': 'Order Total ($)'})\n",
        "fig_box.show()\n",
        "\n",
        "print('Computed order totals, showed head/stats, and plotted distribution/boxplot using plotly.express')"
      ],
      "metadata": {
        "colab": {
          "base_uri": "https://localhost:8080/",
          "height": 820
        },
        "id": "BA0BWZCHgPjN",
        "outputId": "8a38a2b0-2e10-41de-e2f9-4a733b52d143"
      },
      "execution_count": 8,
      "outputs": [
        {
          "output_type": "stream",
          "name": "stdout",
          "text": [
            "   order_id  order_total\n",
            "0         1        11.56\n",
            "1         2        16.98\n",
            "2         3        12.67\n",
            "3         4        21.00\n",
            "4         5        13.70\n",
            "count    1834.000000\n",
            "mean       18.811429\n",
            "std        11.652512\n",
            "min        10.080000\n",
            "25%        12.572500\n",
            "50%        16.200000\n",
            "75%        21.960000\n",
            "max       205.250000\n",
            "Name: order_total, dtype: float64\n"
          ]
        },
        {
          "output_type": "display_data",
          "data": {
            "text/html": [
              "<html>\n",
              "<head><meta charset=\"utf-8\" /></head>\n",
              "<body>\n",
              "    <div>            <script src=\"https://cdnjs.cloudflare.com/ajax/libs/mathjax/2.7.5/MathJax.js?config=TeX-AMS-MML_SVG\"></script><script type=\"text/javascript\">if (window.MathJax && window.MathJax.Hub && window.MathJax.Hub.Config) {window.MathJax.Hub.Config({SVG: {font: \"STIX-Web\"}});}</script>                <script type=\"text/javascript\">window.PlotlyConfig = {MathJaxConfig: 'local'};</script>\n",
              "        <script charset=\"utf-8\" src=\"https://cdn.plot.ly/plotly-2.35.2.min.js\"></script>                <div id=\"57091733-f1e2-4197-99fe-7e76021bdbf3\" class=\"plotly-graph-div\" style=\"height:525px; width:100%;\"></div>            <script type=\"text/javascript\">                                    window.PLOTLYENV=window.PLOTLYENV || {};                                    if (document.getElementById(\"57091733-f1e2-4197-99fe-7e76021bdbf3\")) {                    Plotly.newPlot(                        \"57091733-f1e2-4197-99fe-7e76021bdbf3\",                        [{\"alignmentgroup\":\"True\",\"hovertemplate\":\"Order Total ($)=%{x}\\u003cextra\\u003e\\u003c\\u002fextra\\u003e\",\"legendgroup\":\"\",\"marker\":{\"color\":\"#636efa\"},\"name\":\"\",\"notched\":false,\"offsetgroup\":\"\",\"orientation\":\"h\",\"showlegend\":false,\"x\":[11.56,16.98,12.67,21.0,13.7,17.5,15.7,10.88,10.67,13.2,12.38,14.370000000000001,10.88,10.08,10.88,10.68,10.08,24.9,13.9,36.2,23.36,12.98,11.17,12.07,11.38,20.5,13.9,33.7,17.98,23.36,10.68,12.98,13.2,28.4,13.4,18.0,18.0,18.57,12.2,32.75,16.2,13.7,20.5,13.2,21.97,11.88,10.08,13.7,16.15,10.88,18.57,12.98,22.45,15.7,10.08,16.65,16.2,10.88,10.98,22.5,16.2,15.7,15.7,22.5,25.45,11.48,19.67,21.95,10.88,21.95,27.45,10.98,21.650000000000002,22.36,36.2,10.67,11.88,17.48,10.98,11.48,10.67,20.95,24.95,28.46,11.38,22.95,10.08,10.88,16.060000000000002,20.0,11.88,20.15,38.2,22.5,16.2,35.0,20.15,22.3,13.4,10.08,12.98,14.65,47.9,12.2,17.5,18.0,10.98,21.25,12.07,36.0,17.5,17.98,10.08,13.0,11.38,12.2,12.98,10.88,16.98,10.18,12.48,11.77,23.78,28.4,31.7,20.0,12.5,24.95,29.990000000000002,11.38,10.88,22.15,10.68,22.15,13.2,17.48,17.5,10.67,12.15,11.08,16.98,11.38,12.4,13.4,16.98,21.0,13.0,30.94,30.4,13.06,10.67,22.16,17.5,18.19,15.77,17.48,13.4,14.2,12.5,10.08,17.5,12.2,13.25,10.08,13.75,25.15,10.68,18.240000000000002,18.0,16.95,15.7,17.48,17.48,12.5,13.0,25.45,13.4,32.94,12.5,14.26,17.5,20.19,18.0,31.85,17.5,37.33,10.68,10.08,14.370000000000001,10.08,18.0,27.9,22.2,17.48,81.0,24.2,10.18,23.0,21.95,12.48,12.48,14.26,12.75,12.27,109.9,29.95,24.95,12.48,18.5,20.5,23.0,26.0,17.48,14.8,25.349999999999998,13.2,22.200000000000003,12.98,10.68,17.5,17.5,25.45,27.25,12.48,25.7,22.45,24.45,10.98,22.16,38.19,45.1,12.2,29.75,31.2,35.25,18.5,26.150000000000002,21.0,13.4,22.45,10.98,20.5,22.5,13.7,11.48,10.18,32.25,16.2,13.2,21.28,12.95,18.0,23.78,23.55,12.48,12.07,13.2,27.9,18.0,12.48,22.5,12.5,17.5,24.990000000000002,21.95,12.48,10.08,10.88,13.17,13.25,20.45,13.2,20.5,10.18,12.48,30.96,16.95,14.97,21.8,12.48,13.7,25.5,13.4,31.2,11.38,14.45,19.66,11.76,12.95,12.75,13.45,12.48,11.48,12.48,12.5,10.68,12.5,15.24,20.95,20.5,19.669999999999998,12.48,17.5,35.5,21.75,18.240000000000002,12.48,13.4,23.14,10.68,30.96,20.65,14.8,17.5,13.7,12.5,24.25,12.48,25.97,12.15,10.67,12.95,12.65,12.5,15.7,35.15,22.5,14.97,14.97,10.68,18.0,10.08,12.2,18.0,12.48,17.5,22.5,28.32,11.08,13.2,11.08,12.48,54.05,25.97,16.15,30.2,15.7,16.98,10.88,15.0,13.7,22.95,18.0,18.0,18.5,20.47,22.5,24.25,12.15,21.25,12.75,22.5,24.64,13.2,12.5,26.75,23.5,16.98,23.96,13.2,10.68,20.5,15.7,13.0,14.7,20.16,26.97,10.18,38.95,24.15,20.37,12.58,13.2,30.9,10.18,16.98,33.5,10.08,35.8,12.48,12.98,11.27,10.08,18.0,11.38,25.0,18.5,12.75,12.48,31.75,17.5,35.15,11.38,22.65,12.5,13.0,23.0,23.75,19.47,18.75,16.98,16.2,24.25,10.88,13.7,18.0,10.68,17.5,20.37,15.7,13.2,15.74,19.47,11.27,13.7,12.95,12.48,25.65,11.48,12.15,14.65,23.990000000000002,10.68,20.5,12.07,11.88,12.15,22.46,19.47,21.45,16.2,11.48,24.45,10.68,14.7,13.9,11.38,12.95,12.15,15.84,23.45,13.0,10.58,11.38,16.2,22.5,26.25,17.5,22.5,22.45,13.0,25.45,10.68,15.7,15.24,22.45,27.95,28.09,15.7,13.2,24.15,19.97,13.7,11.48,21.45,17.48,17.48,28.04,20.46,12.15,35.39,23.2,22.96,11.17,24.44,13.2,20.5,50.9,16.98,10.68,102.0,10.98,15.7,19.47,12.38,17.55,21.95,26.95,13.7,12.15,14.84,13.0,15.7,22.96,12.2,20.95,25.5,11.38,25.0,12.48,104.59,10.98,20.37,20.15,13.2,10.18,16.88,10.98,26.950000000000003,19.689999999999998,17.5,14.95,10.18,13.7,10.08,14.2,26.05,10.98,31.25,22.3,12.48,10.68,10.18,34.89,24.4,13.2,13.2,10.98,19.97,13.7,23.64,17.48,18.0,17.5,27.95,25.5,10.68,13.9,28.15,12.2,20.0,31.9,16.560000000000002,12.2,19.17,10.98,14.2,10.68,12.15,23.45,52.45,22.96,19.65,13.0,18.5,18.240000000000002,18.07,10.98,12.15,12.75,22.5,16.98,13.0,13.4,18.8,46.53,71.15,22.5,12.57,16.98,17.5,12.75,18.0,12.48,26.25,17.5,13.25,25.45,19.97,22.45,11.97,17.5,11.48,17.48,10.88,23.46,16.2,12.15,19.97,12.75,12.15,26.75,12.75,14.45,10.98,12.95,12.95,19.37,12.5,17.5,18.0,13.14,12.15,10.08,13.2,26.25,13.2,14.7,17.5,20.5,22.5,16.95,34.46,17.76,13.2,12.65,23.0,39.8,18.75,13.4,14.65,13.0,13.0,14.45,48.45,20.45,29.29,17.4,12.15,14.7,12.38,18.5,20.45,13.39,14.2,20.5,14.2,22.3,41.8,12.15,23.76,24.35,23.0,38.9,15.2,14.770000000000001,13.4,23.0,16.2,16.2,18.0,17.48,17.48,20.5,12.48,14.97,25.97,16.98,13.4,29.2,16.98,12.07,13.4,12.95,18.5,12.2,12.15,12.98,13.9,12.38,18.0,26.95,12.15,16.2,12.2,16.98,24.45,49.45,10.18,11.88,118.25,21.96,12.67,20.47,10.18,12.9,12.75,20.45,10.18,12.95,13.4,11.08,25.47,13.0,20.5,21.95,12.75,41.74,19.69,13.4,10.88,24.95,19.97,12.2,18.5,20.5,17.5,10.98,20.5,19.65,13.4,16.2,10.88,13.0,12.15,10.18,12.75,17.5,12.48,10.08,12.5,19.37,18.0,38.84,17.48,13.2,41.15,12.34,12.48,12.15,21.96,10.18,13.2,17.48,12.48,29.2,17.5,12.2,15.24,13.05,12.4,19.37,13.7,22.69,12.67,18.64,12.2,12.15,86.3,22.5,19.47,12.4,14.15,12.95,12.48,15.55,13.9,18.5,10.88,24.95,12.98,18.5,13.2,18.240000000000002,17.48,19.69,22.5,12.2,10.18,10.98,13.2,14.2,19.87,29.490000000000002,14.7,10.68,30.240000000000002,10.08,17.48,12.07,45.65,27.4,13.25,22.36,20.15,12.4,12.98,24.14,12.98,17.5,12.5,10.98,17.95,15.7,16.65,40.35,24.7,12.95,13.2,22.96,10.88,25.15,12.4,31.4,12.5,31.7,26.75,70.85,10.98,16.98,10.98,17.98,41.0,12.48,12.67,17.5,11.38,11.38,12.95,23.0,17.5,19.37,12.75,13.0,13.2,27.95,21.96,21.95,20.5,11.38,18.0,26.85,13.25,22.45,13.0,19.0,12.4,55.45,22.19,24.3,15.7,11.38,18.5,13.7,28.1,22.5,12.4,13.7,22.150000000000002,14.45,11.38,13.2,10.98,13.25,10.98,21.47,17.48,29.96,22.5,10.98,10.98,16.76,12.95,13.25,12.67,13.2,17.5,13.2,38.0,21.47,31.25,13.2,14.45,12.4,23.5,23.5,13.25,30.15,10.08,27.45,19.65,12.65,23.0,24.45,10.18,17.5,17.48,23.45,22.689999999999998,20.47,33.32,11.48,12.4,10.68,12.5,18.5,38.3,19.47,22.3,18.0,12.15,24.65,31.7,21.0,13.9,52.45,10.98,17.5,12.15,10.98,12.4,12.95,18.5,10.88,13.2,205.25,17.98,12.95,13.25,22.5,12.4,16.98,13.25,14.55,12.95,14.95,24.45,12.15,12.67,20.0,28.75,10.18,21.0,10.88,27.44,26.75,28.150000000000002,31.75,40.69,11.38,20.0,27.099999999999998,81.14,17.5,11.27,12.75,22.5,13.25,17.48,22.5,13.05,22.15,14.2,15.7,14.27,25.65,11.38,20.5,13.14,19.39,11.97,26.25,46.9,18.0,23.5,24.5,19.97,15.35,24.95,12.67,21.0,13.7,23.46,14.95,10.98,17.5,23.0,19.97,16.95,12.47,13.4,13.2,10.18,12.67,24.95,43.0,22.5,10.88,29.25,20.5,10.08,10.68,13.0,21.96,12.15,71.4,11.77,12.15,12.36,33.24,13.0,22.5,31.9,10.08,13.4,32.25,22.5,12.2,15.7,14.65,12.75,10.98,16.98,18.5,16.060000000000002,31.7,17.5,13.2,14.45,26.75,21.95,13.59,28.75,13.4,32.04,10.98,15.7,22.5,19.47,11.88,20.95,12.39,14.7,24.5,12.4,11.88,13.0,17.5,12.5,12.95,59.35,38.2,11.88,12.2,11.16,17.98,31.25,18.65,22.45,16.98,10.98,14.97,20.5,18.95,16.98,17.5,18.0,12.95,12.75,33.7,32.7,17.5,10.18,22.3,12.75,20.39,18.5,22.5,23.5,23.0,12.15,32.25,14.65,13.2,22.95,15.7,22.15,23.14,13.2,13.05,31.75,25.15,10.08,16.98,20.87,14.97,29.6,12.57,16.98,16.98,16.060000000000002,20.45,20.95,13.4,13.7,25.45,13.9,18.0,17.740000000000002,22.95,14.97,12.9,20.0,19.09,21.95,23.0,12.36,12.38,10.68,17.48,12.26,10.08,12.67,13.57,17.5,20.5,18.0,23.76,18.0,18.5,15.370000000000001,18.07,12.38,12.5,12.98,24.14,18.0,22.5,12.5,23.7,12.15,26.97,12.95,14.75,17.5,11.08,10.68,10.68,18.36,13.9,14.7,17.5,23.0,27.45,12.5,26.62,20.0,23.5,17.85,18.77,13.7,10.08,12.75,12.98,18.349999999999998,24.45,33.2,22.5,20.5,44.510000000000005,24.95,11.88,17.48,17.5,22.96,43.14,11.27,17.98,18.0,12.2,12.48,42.13,17.5,18.5,12.5,10.08,13.2,25.15,31.25,14.45,26.0,19.66,38.7,19.17,19.07,28.990000000000002,13.2,10.68,11.48,14.25,12.36,10.88,13.0,10.18,10.18,24.95,13.2,20.0,20.0,17.560000000000002,12.48,12.48,12.98,15.7,10.88,10.88,12.48,16.95,13.7,14.07,29.4,20.0,33.75,22.5,17.48,21.95,16.98,36.7,12.2,10.18,17.45,12.75,11.48,13.4,18.14,12.48,10.48,13.17,15.47,10.18,12.2,10.18,43.09,29.54,13.2,19.65,12.5,31.44,16.98,23.95,12.48,19.27,18.240000000000002,12.47,26.95,10.68,21.96,11.17,11.38,10.379999999999999,20.15,10.08,16.98,13.2,17.5,18.0,10.88,13.2,22.5,20.5,34.46,13.2,11.48,12.15,13.7,25.15,11.38,17.38,14.7,13.25,15.2,22.86,26.54,16.2,17.5,15.7,17.85,13.57,22.5,10.88,11.38,13.4,12.95,20.0,17.5,23.5,22.5,15.7,19.67,10.68,12.5,19.77,10.08,26.7,18.75,12.15,12.48,10.88,15.66,13.2,11.48,17.5,11.48,18.0,12.48,12.75,20.0,13.2,13.7,24.75,13.25,24.95,40.5,12.15,12.15,17.48,18.75,16.25,17.5,27.25,24.0,19.65,12.15,21.96,10.18,26.07,13.25,17.98,11.48,18.5,44.25,12.15,20.64,16.2,18.5,18.64,10.88,11.27,19.66,12.5,11.88,12.48,20.0,10.18,16.98,31.5,20.0,16.98,12.5,52.18,23.0,19.47,10.88,20.5,13.2,14.2,30.2,20.0,13.2,12.5,14.2,18.5,15.74,17.5,10.18,12.48,14.65,17.48,10.08,14.45,23.0,20.5,12.75,13.4,10.98,20.5,14.2,20.5,26.75,18.75,14.9,28.75,17.5,15.7,25.47,23.740000000000002,14.2,35.25,12.95,13.4,13.7,30.7,13.14,12.15,12.36,17.38,12.2,13.370000000000001,22.5,21.96,21.16,14.7,20.0,26.75,18.77,13.2,16.2,20.5,21.27,10.379999999999999,13.7,17.85,16.88,15.7,21.25,44.64,12.4,16.2,26.35,12.95,41.6,18.5,22.76,21.65,12.5,10.08,12.4,12.48,12.4,21.650000000000002,12.4,13.7,160.74,23.0,13.370000000000001,15.7,16.98,15.24,95.39,20.95,13.870000000000001,11.38,33.7,85.24000000000001,24.65,13.0,12.4,13.4,11.38,24.65,31.25,26.740000000000002,10.88,12.2,16.98,12.08,10.08,12.38,13.7,21.96,17.5,21.25,16.2,22.5,10.08,21.16,20.5,16.98,13.2,29.490000000000002,18.5,15.7,139.0,10.67,11.27,12.5,12.4,10.18,12.95,12.48,16.98,22.15,13.25,10.08,10.98,10.98,12.5,13.2,17.59,17.98,15.7,23.5,12.48,13.7,13.7,13.2,17.5,18.240000000000002,21.95,13.2,41.95,23.0,14.2,19.95,12.2,11.38,24.14,12.57,10.98,18.5,20.0,23.0,12.5,13.7,15.74,23.5,11.38,16.98,18.5,12.95,13.9,16.98,39.44,29.25,13.2,16.98,27.44,24.65,21.0,21.96,22.060000000000002,13.2,12.48,20.0,13.4,16.2,29.25,18.5,12.4,17.650000000000002,12.75,11.38,13.25,33.44,12.48,20.5,12.98,15.24,82.44,17.5,22.5,11.27,13.45,16.88,10.88,10.88,10.98,17.98,10.18,17.5,15.7,21.95,13.2,13.9,10.08,13.2,33.05,12.36,12.4,21.47,12.15,12.2,15.7,12.2,21.47,51.2,12.5,27.9,10.98,17.5,18.5,35.2,16.98,14.2,12.4,10.88,12.65,33.26,12.95,12.2,42.5,10.08,22.95,15.96,17.48,17.5,23.0,15.7,11.88,23.7,20.35,12.98,22.65,13.0,38.64,12.2,13.7,19.25,13.25,13.2,10.08,12.2,10.68,10.379999999999999,15.7,21.95,24.45,16.88,11.27,12.95,12.48,14.370000000000001,24.65,18.5,16.98,12.75,10.88,11.38,16.2,17.5,18.5,16.95,27.9,14.45,12.0,22.5,22.5,33.7,18.0,13.2,12.15,21.8,12.95,12.2,49.95,13.0,26.0,13.7,23.0,70.25,13.4,25.7,12.5,29.14,12.15,15.24,12.75,13.2,13.2,21.0,13.25,12.5,28.6,15.7,13.2,14.95,15.7,13.2,32.85,13.25,15.7,12.4,13.2,20.5,17.5,22.5,12.4,13.9,12.2,24.2,25.5,24.39,13.84,12.4,29.75,26.2,12.2,19.65,31.25,23.0,26.8,17.98,38.5,13.2,14.45,12.5,17.5,20.0,13.0,13.9,13.2,13.2,20.5,22.45,17.45,16.2,22.65,34.9,33.15,16.34,13.2,12.2,14.2,22.5,14.2,21.0,12.2,13.4,18.15,20.0,22.5,12.15,12.5,13.2,23.75,13.0,33.75,36.0,13.0,13.7,19.69,29.490000000000002,18.0,13.4,28.9,24.95,20.0,25.65,17.45,23.5,24.94,18.14,14.95,12.5,12.95,15.7,14.7,13.7,12.95,14.2,39.3,18.64,14.95,55.55,15.15,36.7,17.5,31.75,13.2,13.25,17.5,32.25,16.2,13.7,28.75,12.4,13.7,12.75,12.95,22.5,13.25,13.4,18.0,14.7,13.0,114.3,12.95,14.65,23.0,15.45,13.9,12.75,22.47,14.45,14.45,13.25,17.5,29.490000000000002,12.15,19.69,13.2,20.0,20.19,14.45,20.0,13.0,18.64,13.7,14.45,23.0,29.25,22.5,17.5,13.7,12.5,13.2,13.0,18.14,13.2,12.5,13.7,23.0,12.15,26.95,66.5,15.95,32.95,14.45,24.25,23.0,12.9,13.2,23.5,28.75],\"x0\":\" \",\"xaxis\":\"x\",\"y0\":\" \",\"yaxis\":\"y\",\"type\":\"box\"}],                        {\"template\":{\"data\":{\"histogram2dcontour\":[{\"type\":\"histogram2dcontour\",\"colorbar\":{\"outlinewidth\":0,\"ticks\":\"\"},\"colorscale\":[[0.0,\"#0d0887\"],[0.1111111111111111,\"#46039f\"],[0.2222222222222222,\"#7201a8\"],[0.3333333333333333,\"#9c179e\"],[0.4444444444444444,\"#bd3786\"],[0.5555555555555556,\"#d8576b\"],[0.6666666666666666,\"#ed7953\"],[0.7777777777777778,\"#fb9f3a\"],[0.8888888888888888,\"#fdca26\"],[1.0,\"#f0f921\"]]}],\"choropleth\":[{\"type\":\"choropleth\",\"colorbar\":{\"outlinewidth\":0,\"ticks\":\"\"}}],\"histogram2d\":[{\"type\":\"histogram2d\",\"colorbar\":{\"outlinewidth\":0,\"ticks\":\"\"},\"colorscale\":[[0.0,\"#0d0887\"],[0.1111111111111111,\"#46039f\"],[0.2222222222222222,\"#7201a8\"],[0.3333333333333333,\"#9c179e\"],[0.4444444444444444,\"#bd3786\"],[0.5555555555555556,\"#d8576b\"],[0.6666666666666666,\"#ed7953\"],[0.7777777777777778,\"#fb9f3a\"],[0.8888888888888888,\"#fdca26\"],[1.0,\"#f0f921\"]]}],\"heatmap\":[{\"type\":\"heatmap\",\"colorbar\":{\"outlinewidth\":0,\"ticks\":\"\"},\"colorscale\":[[0.0,\"#0d0887\"],[0.1111111111111111,\"#46039f\"],[0.2222222222222222,\"#7201a8\"],[0.3333333333333333,\"#9c179e\"],[0.4444444444444444,\"#bd3786\"],[0.5555555555555556,\"#d8576b\"],[0.6666666666666666,\"#ed7953\"],[0.7777777777777778,\"#fb9f3a\"],[0.8888888888888888,\"#fdca26\"],[1.0,\"#f0f921\"]]}],\"heatmapgl\":[{\"type\":\"heatmapgl\",\"colorbar\":{\"outlinewidth\":0,\"ticks\":\"\"},\"colorscale\":[[0.0,\"#0d0887\"],[0.1111111111111111,\"#46039f\"],[0.2222222222222222,\"#7201a8\"],[0.3333333333333333,\"#9c179e\"],[0.4444444444444444,\"#bd3786\"],[0.5555555555555556,\"#d8576b\"],[0.6666666666666666,\"#ed7953\"],[0.7777777777777778,\"#fb9f3a\"],[0.8888888888888888,\"#fdca26\"],[1.0,\"#f0f921\"]]}],\"contourcarpet\":[{\"type\":\"contourcarpet\",\"colorbar\":{\"outlinewidth\":0,\"ticks\":\"\"}}],\"contour\":[{\"type\":\"contour\",\"colorbar\":{\"outlinewidth\":0,\"ticks\":\"\"},\"colorscale\":[[0.0,\"#0d0887\"],[0.1111111111111111,\"#46039f\"],[0.2222222222222222,\"#7201a8\"],[0.3333333333333333,\"#9c179e\"],[0.4444444444444444,\"#bd3786\"],[0.5555555555555556,\"#d8576b\"],[0.6666666666666666,\"#ed7953\"],[0.7777777777777778,\"#fb9f3a\"],[0.8888888888888888,\"#fdca26\"],[1.0,\"#f0f921\"]]}],\"surface\":[{\"type\":\"surface\",\"colorbar\":{\"outlinewidth\":0,\"ticks\":\"\"},\"colorscale\":[[0.0,\"#0d0887\"],[0.1111111111111111,\"#46039f\"],[0.2222222222222222,\"#7201a8\"],[0.3333333333333333,\"#9c179e\"],[0.4444444444444444,\"#bd3786\"],[0.5555555555555556,\"#d8576b\"],[0.6666666666666666,\"#ed7953\"],[0.7777777777777778,\"#fb9f3a\"],[0.8888888888888888,\"#fdca26\"],[1.0,\"#f0f921\"]]}],\"mesh3d\":[{\"type\":\"mesh3d\",\"colorbar\":{\"outlinewidth\":0,\"ticks\":\"\"}}],\"scatter\":[{\"fillpattern\":{\"fillmode\":\"overlay\",\"size\":10,\"solidity\":0.2},\"type\":\"scatter\"}],\"parcoords\":[{\"type\":\"parcoords\",\"line\":{\"colorbar\":{\"outlinewidth\":0,\"ticks\":\"\"}}}],\"scatterpolargl\":[{\"type\":\"scatterpolargl\",\"marker\":{\"colorbar\":{\"outlinewidth\":0,\"ticks\":\"\"}}}],\"bar\":[{\"error_x\":{\"color\":\"#2a3f5f\"},\"error_y\":{\"color\":\"#2a3f5f\"},\"marker\":{\"line\":{\"color\":\"#E5ECF6\",\"width\":0.5},\"pattern\":{\"fillmode\":\"overlay\",\"size\":10,\"solidity\":0.2}},\"type\":\"bar\"}],\"scattergeo\":[{\"type\":\"scattergeo\",\"marker\":{\"colorbar\":{\"outlinewidth\":0,\"ticks\":\"\"}}}],\"scatterpolar\":[{\"type\":\"scatterpolar\",\"marker\":{\"colorbar\":{\"outlinewidth\":0,\"ticks\":\"\"}}}],\"histogram\":[{\"marker\":{\"pattern\":{\"fillmode\":\"overlay\",\"size\":10,\"solidity\":0.2}},\"type\":\"histogram\"}],\"scattergl\":[{\"type\":\"scattergl\",\"marker\":{\"colorbar\":{\"outlinewidth\":0,\"ticks\":\"\"}}}],\"scatter3d\":[{\"type\":\"scatter3d\",\"line\":{\"colorbar\":{\"outlinewidth\":0,\"ticks\":\"\"}},\"marker\":{\"colorbar\":{\"outlinewidth\":0,\"ticks\":\"\"}}}],\"scattermapbox\":[{\"type\":\"scattermapbox\",\"marker\":{\"colorbar\":{\"outlinewidth\":0,\"ticks\":\"\"}}}],\"scatterternary\":[{\"type\":\"scatterternary\",\"marker\":{\"colorbar\":{\"outlinewidth\":0,\"ticks\":\"\"}}}],\"scattercarpet\":[{\"type\":\"scattercarpet\",\"marker\":{\"colorbar\":{\"outlinewidth\":0,\"ticks\":\"\"}}}],\"carpet\":[{\"aaxis\":{\"endlinecolor\":\"#2a3f5f\",\"gridcolor\":\"white\",\"linecolor\":\"white\",\"minorgridcolor\":\"white\",\"startlinecolor\":\"#2a3f5f\"},\"baxis\":{\"endlinecolor\":\"#2a3f5f\",\"gridcolor\":\"white\",\"linecolor\":\"white\",\"minorgridcolor\":\"white\",\"startlinecolor\":\"#2a3f5f\"},\"type\":\"carpet\"}],\"table\":[{\"cells\":{\"fill\":{\"color\":\"#EBF0F8\"},\"line\":{\"color\":\"white\"}},\"header\":{\"fill\":{\"color\":\"#C8D4E3\"},\"line\":{\"color\":\"white\"}},\"type\":\"table\"}],\"barpolar\":[{\"marker\":{\"line\":{\"color\":\"#E5ECF6\",\"width\":0.5},\"pattern\":{\"fillmode\":\"overlay\",\"size\":10,\"solidity\":0.2}},\"type\":\"barpolar\"}],\"pie\":[{\"automargin\":true,\"type\":\"pie\"}]},\"layout\":{\"autotypenumbers\":\"strict\",\"colorway\":[\"#636efa\",\"#EF553B\",\"#00cc96\",\"#ab63fa\",\"#FFA15A\",\"#19d3f3\",\"#FF6692\",\"#B6E880\",\"#FF97FF\",\"#FECB52\"],\"font\":{\"color\":\"#2a3f5f\"},\"hovermode\":\"closest\",\"hoverlabel\":{\"align\":\"left\"},\"paper_bgcolor\":\"white\",\"plot_bgcolor\":\"#E5ECF6\",\"polar\":{\"bgcolor\":\"#E5ECF6\",\"angularaxis\":{\"gridcolor\":\"white\",\"linecolor\":\"white\",\"ticks\":\"\"},\"radialaxis\":{\"gridcolor\":\"white\",\"linecolor\":\"white\",\"ticks\":\"\"}},\"ternary\":{\"bgcolor\":\"#E5ECF6\",\"aaxis\":{\"gridcolor\":\"white\",\"linecolor\":\"white\",\"ticks\":\"\"},\"baxis\":{\"gridcolor\":\"white\",\"linecolor\":\"white\",\"ticks\":\"\"},\"caxis\":{\"gridcolor\":\"white\",\"linecolor\":\"white\",\"ticks\":\"\"}},\"coloraxis\":{\"colorbar\":{\"outlinewidth\":0,\"ticks\":\"\"}},\"colorscale\":{\"sequential\":[[0.0,\"#0d0887\"],[0.1111111111111111,\"#46039f\"],[0.2222222222222222,\"#7201a8\"],[0.3333333333333333,\"#9c179e\"],[0.4444444444444444,\"#bd3786\"],[0.5555555555555556,\"#d8576b\"],[0.6666666666666666,\"#ed7953\"],[0.7777777777777778,\"#fb9f3a\"],[0.8888888888888888,\"#fdca26\"],[1.0,\"#f0f921\"]],\"sequentialminus\":[[0.0,\"#0d0887\"],[0.1111111111111111,\"#46039f\"],[0.2222222222222222,\"#7201a8\"],[0.3333333333333333,\"#9c179e\"],[0.4444444444444444,\"#bd3786\"],[0.5555555555555556,\"#d8576b\"],[0.6666666666666666,\"#ed7953\"],[0.7777777777777778,\"#fb9f3a\"],[0.8888888888888888,\"#fdca26\"],[1.0,\"#f0f921\"]],\"diverging\":[[0,\"#8e0152\"],[0.1,\"#c51b7d\"],[0.2,\"#de77ae\"],[0.3,\"#f1b6da\"],[0.4,\"#fde0ef\"],[0.5,\"#f7f7f7\"],[0.6,\"#e6f5d0\"],[0.7,\"#b8e186\"],[0.8,\"#7fbc41\"],[0.9,\"#4d9221\"],[1,\"#276419\"]]},\"xaxis\":{\"gridcolor\":\"white\",\"linecolor\":\"white\",\"ticks\":\"\",\"title\":{\"standoff\":15},\"zerolinecolor\":\"white\",\"automargin\":true,\"zerolinewidth\":2},\"yaxis\":{\"gridcolor\":\"white\",\"linecolor\":\"white\",\"ticks\":\"\",\"title\":{\"standoff\":15},\"zerolinecolor\":\"white\",\"automargin\":true,\"zerolinewidth\":2},\"scene\":{\"xaxis\":{\"backgroundcolor\":\"#E5ECF6\",\"gridcolor\":\"white\",\"linecolor\":\"white\",\"showbackground\":true,\"ticks\":\"\",\"zerolinecolor\":\"white\",\"gridwidth\":2},\"yaxis\":{\"backgroundcolor\":\"#E5ECF6\",\"gridcolor\":\"white\",\"linecolor\":\"white\",\"showbackground\":true,\"ticks\":\"\",\"zerolinecolor\":\"white\",\"gridwidth\":2},\"zaxis\":{\"backgroundcolor\":\"#E5ECF6\",\"gridcolor\":\"white\",\"linecolor\":\"white\",\"showbackground\":true,\"ticks\":\"\",\"zerolinecolor\":\"white\",\"gridwidth\":2}},\"shapedefaults\":{\"line\":{\"color\":\"#2a3f5f\"}},\"annotationdefaults\":{\"arrowcolor\":\"#2a3f5f\",\"arrowhead\":0,\"arrowwidth\":1},\"geo\":{\"bgcolor\":\"white\",\"landcolor\":\"#E5ECF6\",\"subunitcolor\":\"white\",\"showland\":true,\"showlakes\":true,\"lakecolor\":\"white\"},\"title\":{\"x\":0.05},\"mapbox\":{\"style\":\"light\"}}},\"xaxis\":{\"anchor\":\"y\",\"domain\":[0.0,1.0],\"title\":{\"text\":\"Order Total ($)\"}},\"yaxis\":{\"anchor\":\"x\",\"domain\":[0.0,1.0]},\"legend\":{\"tracegroupgap\":0},\"title\":{\"text\":\"Order Total Spread and Outliers\"},\"boxmode\":\"group\"},                        {\"responsive\": true}                    ).then(function(){\n",
              "                            \n",
              "var gd = document.getElementById('57091733-f1e2-4197-99fe-7e76021bdbf3');\n",
              "var x = new MutationObserver(function (mutations, observer) {{\n",
              "        var display = window.getComputedStyle(gd).display;\n",
              "        if (!display || display === 'none') {{\n",
              "            console.log([gd, 'removed!']);\n",
              "            Plotly.purge(gd);\n",
              "            observer.disconnect();\n",
              "        }}\n",
              "}});\n",
              "\n",
              "// Listen for the removal of the full notebook cells\n",
              "var notebookContainer = gd.closest('#notebook-container');\n",
              "if (notebookContainer) {{\n",
              "    x.observe(notebookContainer, {childList: true});\n",
              "}}\n",
              "\n",
              "// Listen for the clearing of the current output cell\n",
              "var outputEl = gd.closest('.output');\n",
              "if (outputEl) {{\n",
              "    x.observe(outputEl, {childList: true});\n",
              "}}\n",
              "\n",
              "                        })                };                            </script>        </div>\n",
              "</body>\n",
              "</html>"
            ]
          },
          "metadata": {}
        },
        {
          "output_type": "stream",
          "name": "stdout",
          "text": [
            "Computed order totals, showed head/stats, and plotted distribution/boxplot using plotly.express\n"
          ]
        }
      ]
    }
  ]
}